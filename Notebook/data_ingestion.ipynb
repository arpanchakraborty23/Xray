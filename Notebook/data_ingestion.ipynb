{
 "cells": [
  {
   "cell_type": "code",
   "execution_count": 9,
   "metadata": {},
   "outputs": [],
   "source": [
    "import os\n",
    "os.chdir('../')"
   ]
  },
  {
   "cell_type": "code",
   "execution_count": 10,
   "metadata": {},
   "outputs": [
    {
     "data": {
      "text/plain": [
       "'e:\\\\Xray'"
      ]
     },
     "execution_count": 10,
     "metadata": {},
     "output_type": "execute_result"
    }
   ],
   "source": [
    "pwd"
   ]
  },
  {
   "cell_type": "code",
   "execution_count": 11,
   "metadata": {},
   "outputs": [],
   "source": [
    "from src.utils.utils import read_yaml,create_dir\n",
    "from src.constant.ymal_path import *\n",
    "from src.logging.logger import logging\n",
    "from src.exception.exception import CustomException\n",
    "import sys"
   ]
  },
  {
   "cell_type": "code",
   "execution_count": 12,
   "metadata": {},
   "outputs": [],
   "source": [
    "from dataclasses import dataclass\n",
    "from pathlib import Path\n",
    "\n",
    "@dataclass\n",
    "class DataIngestionConfig:\n",
    "    dir: Path\n",
    "    source_url:Path\n",
    "    local_data_file:Path\n",
    "    unzip_dir:Path"
   ]
  },
  {
   "cell_type": "code",
   "execution_count": 17,
   "metadata": {},
   "outputs": [],
   "source": [
    "class ConfigManger:\n",
    "    def __init__(self,\n",
    "                 config_file_path=config_file_path,\n",
    "                 params_file_path=params_file_path) -> None:\n",
    "        self.config=read_yaml(config_file_path)\n",
    "        self.params=read_yaml(params_file_path)\n",
    "\n",
    "        create_dir([self.config.artifacts_root])\n",
    "\n",
    "    def get_data_ingestion_config(self):\n",
    "        config=self.config.data_ingestion\n",
    "\n",
    "        create_dir([config.dir])\n",
    "\n",
    "        data_ingestion_config=DataIngestionConfig(\n",
    "            dir=config.dir,\n",
    "            source_url=config.source_url,\n",
    "            local_data_file=config.local_data_file,\n",
    "            unzip_dir=config.unzip_dir\n",
    "        )\n",
    "\n",
    "        return data_ingestion_config"
   ]
  },
  {
   "cell_type": "code",
   "execution_count": 18,
   "metadata": {},
   "outputs": [],
   "source": [
    "import gdown\n",
    "import zipfile"
   ]
  },
  {
   "cell_type": "code",
   "execution_count": 19,
   "metadata": {},
   "outputs": [],
   "source": [
    "class DataIngestion:\n",
    "    def __init__(self,config:DataIngestionConfig) -> None:\n",
    "        self.config=config\n",
    "\n",
    "    def initiate_data_ingestion(self):\n",
    "        try:\n",
    "            data_url=self.config.source_url\n",
    "\n",
    "            local_dir=self.config.local_data_file\n",
    "\n",
    "            os.makedirs(self.config.dir,exist_ok=True)\n",
    "            logging.info(f'download file {data_url} into {local_dir} ')\n",
    "\n",
    "            prefix='https://drive.google.com/uc?/export=download&id='\n",
    "            id=data_url.split('/')[5]\n",
    "\n",
    "            gdown.download(prefix+id,local_dir)\n",
    "            print(local_dir)\n",
    "            logging.info('data loded')\n",
    "\n",
    "           \n",
    "            unzip_path = self.config.unzip_dir\n",
    "            os.makedirs(unzip_path, exist_ok=True)\n",
    "            with zipfile.ZipFile(self.config.local_data_file, 'r') as zip_ref:\n",
    "                zip_ref.extractall(unzip_path)\n",
    "\n",
    "            logging.info('data ingestion completed')\n",
    "\n",
    "        except Exception as e:\n",
    "            logging.info(f'Error occured {str(e)}')\n",
    "            raise CustomException(sys,e)"
   ]
  },
  {
   "cell_type": "code",
   "execution_count": 20,
   "metadata": {},
   "outputs": [
    {
     "name": "stderr",
     "output_type": "stream",
     "text": [
      "Downloading...\n",
      "From (original): https://drive.google.com/uc?/export=download&id=1pfIAlurfeqFTbirUZ5v_vapIoGPgRiXY\n",
      "From (redirected): https://drive.google.com/uc?%2Fexport=download&id=1pfIAlurfeqFTbirUZ5v_vapIoGPgRiXY&confirm=t&uuid=08fe9402-5039-40e7-a1f1-0cef88f52f9e\n",
      "To: e:\\Xray\\artifacts\\data_ingestion\\data.zip\n",
      "100%|██████████| 51.3M/51.3M [00:54<00:00, 937kB/s] \n"
     ]
    },
    {
     "name": "stdout",
     "output_type": "stream",
     "text": [
      "artifacts/data_ingestion/data.zip\n"
     ]
    }
   ],
   "source": [
    "try:\n",
    "    config=ConfigManger()\n",
    "    data_ingestion_config=config.get_data_ingestion_config()\n",
    "    data_ingestion=DataIngestion(config=data_ingestion_config)\n",
    "    data_ingestion.initiate_data_ingestion()\n",
    "\n",
    "except Exception as e:\n",
    "    logging.info(f' Error in {str(e)}')\n",
    "    raise CustomException(sys,e)"
   ]
  },
  {
   "cell_type": "code",
   "execution_count": null,
   "metadata": {},
   "outputs": [],
   "source": []
  }
 ],
 "metadata": {
  "kernelspec": {
   "display_name": "Python 3",
   "language": "python",
   "name": "python3"
  },
  "language_info": {
   "codemirror_mode": {
    "name": "ipython",
    "version": 3
   },
   "file_extension": ".py",
   "mimetype": "text/x-python",
   "name": "python",
   "nbconvert_exporter": "python",
   "pygments_lexer": "ipython3",
   "version": "3.9.0"
  }
 },
 "nbformat": 4,
 "nbformat_minor": 2
}
