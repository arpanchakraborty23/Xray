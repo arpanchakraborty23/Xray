{
 "cells": [
  {
   "cell_type": "code",
   "execution_count": 1,
   "metadata": {},
   "outputs": [],
   "source": [
    "import os\n",
    "os.chdir('../')"
   ]
  },
  {
   "cell_type": "code",
   "execution_count": 2,
   "metadata": {},
   "outputs": [
    {
     "data": {
      "text/plain": [
       "'/workspaces/Xray'"
      ]
     },
     "execution_count": 2,
     "metadata": {},
     "output_type": "execute_result"
    }
   ],
   "source": [
    "%pwd"
   ]
  },
  {
   "cell_type": "code",
   "execution_count": 3,
   "metadata": {},
   "outputs": [
    {
     "name": "stderr",
     "output_type": "stream",
     "text": [
      "2024-05-04 18:04:04.537047: I tensorflow/core/platform/cpu_feature_guard.cc:210] This TensorFlow binary is optimized to use available CPU instructions in performance-critical operations.\n",
      "To enable the following instructions: AVX2 FMA, in other operations, rebuild TensorFlow with the appropriate compiler flags.\n",
      "2024-05-04 18:04:05.468431: W tensorflow/compiler/tf2tensorrt/utils/py_utils.cc:38] TF-TRT Warning: Could not find TensorRT\n"
     ]
    }
   ],
   "source": [
    "from src.utils.utils import read_yaml,create_dir\n",
    "from src.constant.ymal_path import *\n",
    "from src.logging.logger import logging\n",
    "from src.exception.exception import CustomException\n",
    "import sys"
   ]
  },
  {
   "cell_type": "code",
   "execution_count": 4,
   "metadata": {},
   "outputs": [],
   "source": [
    "from dataclasses import dataclass\n",
    "from pathlib import Path\n",
    "\n",
    "@dataclass\n",
    "class ModelTrainConfig:\n",
    "    dir: Path\n",
    "    model:Path\n",
    "    model_path:Path\n",
    "    train_data:Path\n",
    "    test_data:Path\n",
    "    eposhs:int\n",
    "    batch_size:int \n",
    "    image_size:list\n",
    "    AUGMENTATION: bool"
   ]
  },
  {
   "cell_type": "code",
   "execution_count": 5,
   "metadata": {},
   "outputs": [],
   "source": [
    "class ConfigManger:\n",
    "    def __init__(self,\n",
    "                 config_file_path=config_file_path,\n",
    "                 params_file_path=params_file_path) -> None:\n",
    "        self.config=read_yaml(config_file_path)\n",
    "        self.params=read_yaml(params_file_path)\n",
    "\n",
    "        create_dir([self.config.artifacts_root])\n",
    "\n",
    "    def get_model_train_config(self):\n",
    "\n",
    "        config=self.config.model_train\n",
    "        train_data=os.path.join('artifacts/data_ingestion/data/train')\n",
    "        test_data=os.path.join('artifacts/data_ingestion/data/test')\n",
    "\n",
    "        model_train_config=ModelTrainConfig(\n",
    "            dir=config.dir,\n",
    "            model=config.model,\n",
    "            model_path=config.model_path,\n",
    "            train_data=train_data,\n",
    "            test_data=test_data,\n",
    "            eposhs=self.params.EPOCHS,\n",
    "            batch_size=self.params.BATCH_SIZE,\n",
    "            image_size=self.params.IMAGE_SIZE,\n",
    "            AUGMENTATION=self.params.AUGMENTATION\n",
    "        )\n",
    "        return model_train_config"
   ]
  },
  {
   "cell_type": "code",
   "execution_count": 6,
   "metadata": {},
   "outputs": [],
   "source": [
    "from tensorflow.keras.models import load_model"
   ]
  },
  {
   "cell_type": "code",
   "execution_count": 7,
   "metadata": {},
   "outputs": [],
   "source": [
    "import tensorflow as tf"
   ]
  },
  {
   "cell_type": "code",
   "execution_count": 8,
   "metadata": {},
   "outputs": [],
   "source": [
    "from src.utils.utils import save_model"
   ]
  },
  {
   "cell_type": "code",
   "execution_count": 11,
   "metadata": {},
   "outputs": [],
   "source": [
    "class ModelTrain:\n",
    "    def __init__(self,config:ModelTrainConfig) -> None:\n",
    "        self.config=config\n",
    "\n",
    "    def get_model(self):\n",
    "        self.model=load_model(self.config.model)\n",
    "\n",
    "    @staticmethod\n",
    "    def save_model(path: Path, model: tf.keras.Model):\n",
    "        model.save(path)\n",
    "\n",
    "    def validation_data(self):\n",
    "        try:\n",
    "            datagen_kwargs=dict(\n",
    "                rescale=1./255\n",
    "            )\n",
    "       \n",
    "            dataflow_kwargs = dict(\n",
    "            target_size=self.config.image_size[:-1],\n",
    "            batch_size=self.config.batch_size,\n",
    "            interpolation=\"bilinear\"\n",
    "        )       \n",
    "\n",
    "            if self.config.AUGMENTATION:\n",
    "                datagen_kwargs.update(\n",
    "                    rotation_range=40,\n",
    "                    horizontal_flip=True,\n",
    "                    width_shift_range=0.2,\n",
    "                    height_shift_range=0.2,\n",
    "                    shear_range=0.2,\n",
    "                    zoom_range=0.2\n",
    "                )\n",
    "\n",
    "            train_datagen=tf.keras.preprocessing.image.ImageDataGenerator(**datagen_kwargs)\n",
    "            self.train_genarator=train_datagen.flow_from_directory(\n",
    "                directory=self.config.train_data,\n",
    "                subset='training',\n",
    "                shuffle=True,\n",
    "                **dataflow_kwargs\n",
    "            )\n",
    "\n",
    "            test_datagen=tf.keras.preprocessing.image.ImageDataGenerator(**datagen_kwargs)\n",
    "            self.validation_genarator=test_datagen.flow_from_directory(\n",
    "                directory=self.config.test_data,\n",
    "                shuffle=False,\n",
    "                **dataflow_kwargs\n",
    "            )\n",
    "        except Exception as e:\n",
    "            logging.info('errorr ',str(e))\n",
    "            raise CustomException(sys,e)\n",
    "        \n",
    "    def train(self):\n",
    "        self.validation_per_steps=self.validation_genarator.samples//self.validation_genarator.batch_size\n",
    "\n",
    "        opt=tf.keras.optimizers.SGD(learning_rate=0.01)\n",
    "        loss=tf.keras.losses.categorical_crossentropy\n",
    "\n",
    "        self.model.compile(optimizer=opt,loss=loss,metrics=['accuracy'])\n",
    "\n",
    "        self.model.fit(\n",
    "            self.train_genarator,\n",
    "            epochs=self.config.eposhs,\n",
    "            validation_data=self.validation_genarator\n",
    "        )\n",
    "\n",
    "        self.save_model(\n",
    "                        path=self.config.model_path,model=self.model)\n",
    "    "
   ]
  },
  {
   "cell_type": "code",
   "execution_count": 12,
   "metadata": {},
   "outputs": [
    {
     "name": "stdout",
     "output_type": "stream",
     "text": [
      "Found 210 images belonging to 2 classes.\n",
      "Found 60 images belonging to 2 classes.\n"
     ]
    },
    {
     "name": "stdout",
     "output_type": "stream",
     "text": [
      "Epoch 1/3\n"
     ]
    },
    {
     "name": "stderr",
     "output_type": "stream",
     "text": [
      "/home/codespace/.local/lib/python3.10/site-packages/keras/src/trainers/data_adapters/py_dataset_adapter.py:121: UserWarning: Your `PyDataset` class should call `super().__init__(**kwargs)` in its constructor. `**kwargs` can include `workers`, `use_multiprocessing`, `max_queue_size`. Do not pass these arguments to `fit()`, as they will be ignored.\n",
      "  self._warn_if_super_not_called()\n",
      "2024-05-04 18:04:26.309311: W external/local_tsl/tsl/framework/cpu_allocator_impl.cc:83] Allocation of 403734528 exceeds 10% of free system memory.\n",
      "2024-05-04 18:04:28.071952: W external/local_tsl/tsl/framework/cpu_allocator_impl.cc:83] Allocation of 201867264 exceeds 10% of free system memory.\n",
      "2024-05-04 18:04:28.072878: W external/local_tsl/tsl/framework/cpu_allocator_impl.cc:83] Allocation of 403734528 exceeds 10% of free system memory.\n"
     ]
    },
    {
     "name": "stdout",
     "output_type": "stream",
     "text": [
      "\u001b[1m 1/14\u001b[0m \u001b[32m━\u001b[0m\u001b[37m━━━━━━━━━━━━━━━━━━━\u001b[0m \u001b[1m1:14\u001b[0m 6s/step - accuracy: 0.5000 - loss: 0.6860"
     ]
    },
    {
     "name": "stderr",
     "output_type": "stream",
     "text": [
      "2024-05-04 18:04:28.744466: W external/local_tsl/tsl/framework/cpu_allocator_impl.cc:83] Allocation of 403734528 exceeds 10% of free system memory.\n",
      "2024-05-04 18:04:30.533768: W external/local_tsl/tsl/framework/cpu_allocator_impl.cc:83] Allocation of 201867264 exceeds 10% of free system memory.\n"
     ]
    },
    {
     "name": "stdout",
     "output_type": "stream",
     "text": [
      "\u001b[1m14/14\u001b[0m \u001b[32m━━━━━━━━━━━━━━━━━━━━\u001b[0m\u001b[37m\u001b[0m \u001b[1m39s\u001b[0m 3s/step - accuracy: 0.4765 - loss: 0.6922 - val_accuracy: 0.6000 - val_loss: 0.6864\n",
      "Epoch 2/3\n",
      "\u001b[1m14/14\u001b[0m \u001b[32m━━━━━━━━━━━━━━━━━━━━\u001b[0m\u001b[37m\u001b[0m \u001b[1m40s\u001b[0m 2s/step - accuracy: 0.5955 - loss: 0.6908 - val_accuracy: 0.6167 - val_loss: 0.6883\n",
      "Epoch 3/3\n",
      "\u001b[1m14/14\u001b[0m \u001b[32m━━━━━━━━━━━━━━━━━━━━\u001b[0m\u001b[37m\u001b[0m \u001b[1m37s\u001b[0m 2s/step - accuracy: 0.5736 - loss: 0.6884 - val_accuracy: 0.7167 - val_loss: 0.6836\n"
     ]
    }
   ],
   "source": [
    "try:\n",
    "    config=ConfigManger()\n",
    "    model_train_config=config.get_model_train_config()\n",
    "    model_train=ModelTrain(config=model_train_config)\n",
    "    model_train.get_model()\n",
    "    model_train.validation_data()\n",
    "    model_train.train()\n",
    "\n",
    "except Exception as e:\n",
    "            logging.info('errorr ',str(e))\n",
    "            raise CustomException(sys,e)"
   ]
  },
  {
   "cell_type": "code",
   "execution_count": null,
   "metadata": {},
   "outputs": [],
   "source": []
  }
 ],
 "metadata": {
  "kernelspec": {
   "display_name": "Python 3",
   "language": "python",
   "name": "python3"
  },
  "language_info": {
   "codemirror_mode": {
    "name": "ipython",
    "version": 3
   },
   "file_extension": ".py",
   "mimetype": "text/x-python",
   "name": "python",
   "nbconvert_exporter": "python",
   "pygments_lexer": "ipython3",
   "version": "3.10.13"
  }
 },
 "nbformat": 4,
 "nbformat_minor": 2
}
